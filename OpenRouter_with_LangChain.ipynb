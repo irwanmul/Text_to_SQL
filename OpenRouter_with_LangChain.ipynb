{
  "nbformat": 4,
  "nbformat_minor": 0,
  "metadata": {
    "colab": {
      "provenance": [],
      "authorship_tag": "ABX9TyNGNAPbVUbB5GrP3+XApxPw",
      "include_colab_link": true
    },
    "kernelspec": {
      "name": "python3",
      "display_name": "Python 3"
    },
    "language_info": {
      "name": "python"
    }
  },
  "cells": [
    {
      "cell_type": "markdown",
      "metadata": {
        "id": "view-in-github",
        "colab_type": "text"
      },
      "source": [
        "<a href=\"https://colab.research.google.com/github/irwanmul/Text_to_SQL/blob/main/OpenRouter_with_LangChain.ipynb\" target=\"_parent\"><img src=\"https://colab.research.google.com/assets/colab-badge.svg\" alt=\"Open In Colab\"/></a>"
      ]
    },
    {
      "cell_type": "code",
      "source": [
        "# Run this Python code to fix metadata\n",
        "from IPython.display import display, Javascript\n",
        "display(Javascript('''\n",
        "  google.colab.kernel.proxyPort(0, {'cache': false}).then(() => {\n",
        "    const notebook = google.colab.global.notebook;\n",
        "    notebook.metadata.widgets = {\"state\": {}, \"version\": \"1.0\"};\n",
        "    notebook.save();\n",
        "  });\n",
        "'''))"
      ],
      "metadata": {
        "colab": {
          "base_uri": "https://localhost:8080/",
          "height": 17
        },
        "id": "u25idjFIcY80",
        "outputId": "3843f4a7-13fa-46d6-ed39-32aa7d93e725"
      },
      "execution_count": 9,
      "outputs": [
        {
          "output_type": "display_data",
          "data": {
            "text/plain": [
              "<IPython.core.display.Javascript object>"
            ],
            "application/javascript": [
              "\n",
              "  google.colab.kernel.proxyPort(0, {'cache': false}).then(() => {\n",
              "    const notebook = google.colab.global.notebook;\n",
              "    notebook.metadata.widgets = {\"state\": {}, \"version\": \"1.0\"};\n",
              "    notebook.save();\n",
              "  });\n"
            ]
          },
          "metadata": {}
        }
      ]
    },
    {
      "cell_type": "code",
      "execution_count": 2,
      "metadata": {
        "colab": {
          "base_uri": "https://localhost:8080/"
        },
        "id": "xVnby2UB9y7A",
        "outputId": "041fc26c-ad04-4ae1-80ff-088b1214a195"
      },
      "outputs": [
        {
          "output_type": "stream",
          "name": "stdout",
          "text": []
        }
      ],
      "source": [
        "!pip install faiss-cpu openai tiktoken sentence-transformers\n",
        "!pip install -U langchain langchain-huggingface\n",
        "!pip install -U langchain-community"
      ]
    },
    {
      "cell_type": "code",
      "source": [
        "!pip install faiss-cpu"
      ],
      "metadata": {
        "colab": {
          "base_uri": "https://localhost:8080/"
        },
        "id": "uaQuF4gY945e",
        "outputId": "34b2f97b-1f2a-40b1-b951-7ff8637bde85"
      },
      "execution_count": 10,
      "outputs": [
        {
          "output_type": "stream",
          "name": "stdout",
          "text": [
            "Requirement already satisfied: faiss-cpu in /usr/local/lib/python3.11/dist-packages (1.11.0)\n",
            "Requirement already satisfied: numpy<3.0,>=1.25.0 in /usr/local/lib/python3.11/dist-packages (from faiss-cpu) (2.0.2)\n",
            "Requirement already satisfied: packaging in /usr/local/lib/python3.11/dist-packages (from faiss-cpu) (24.2)\n"
          ]
        }
      ]
    },
    {
      "cell_type": "code",
      "source": [
        "from langchain.vectorstores import FAISS\n",
        "from langchain_huggingface import HuggingFaceEmbeddings\n",
        "from langchain.schema import Document\n",
        "from langchain.llms import OpenAI\n",
        "from langchain.chains import LLMChain\n",
        "from langchain.prompts import PromptTemplate\n",
        "import requests\n",
        "import yaml"
      ],
      "metadata": {
        "id": "YOBDCsxi-BWl"
      },
      "execution_count": 11,
      "outputs": []
    },
    {
      "cell_type": "code",
      "source": [
        "from google.colab import drive\n",
        "drive.mount('/content/drive')"
      ],
      "metadata": {
        "colab": {
          "base_uri": "https://localhost:8080/"
        },
        "id": "dk5tSvUn-B-o",
        "outputId": "52e53bb0-e242-4d64-f578-89edd2d0041b"
      },
      "execution_count": 12,
      "outputs": [
        {
          "output_type": "stream",
          "name": "stdout",
          "text": [
            "Mounted at /content/drive\n"
          ]
        }
      ]
    },
    {
      "cell_type": "code",
      "source": [
        "cd drive/'My Drive/Colab Notebooks'"
      ],
      "metadata": {
        "colab": {
          "base_uri": "https://localhost:8080/"
        },
        "id": "bY2HByhf-IG4",
        "outputId": "d984cff7-1413-4f42-9339-6d3a1435c5de"
      },
      "execution_count": 13,
      "outputs": [
        {
          "output_type": "stream",
          "name": "stdout",
          "text": [
            "/content/drive/My Drive/Colab Notebooks\n"
          ]
        }
      ]
    },
    {
      "cell_type": "code",
      "source": [
        "# === Load YAML schema ===\n",
        "# revision\n",
        "with open(\"schema_table.yaml\", \"r\") as file:\n",
        "    data = yaml.safe_load(file)\n",
        "\n",
        "docs = []\n",
        "\n",
        "# Create document for transaction metadata\n",
        "metadata = data[\"transaction_metadata\"]\n",
        "metadata_content = (\n",
        "    f\"Transaction metadata:\\n\"\n",
        "    f\"- Name: {metadata['name']}\\n\"\n",
        "    f\"- Default currency: {metadata['currency_default']}\\n\"\n",
        "    f\"- Version: {metadata['version']}\\n\"\n",
        "    f\"- Last updated: {metadata['last_updated']}\"\n",
        ")\n",
        "docs.append(Document(page_content=metadata_content))\n",
        "\n",
        "\n",
        "# Create document for transactions structure\n",
        "transaction_fields = [\n",
        "    \"id (integer): Unique transaction identifier\",\n",
        "    \"date (string): Transaction date in YYYY-MM-DD format\",\n",
        "    \"description (string): Description of the transaction\",\n",
        "    \"amount (float): Transaction amount\",\n",
        "    \"currency (string): Currency code (e.g., USD)\",\n",
        "    \"category (string): Transaction category\",\n",
        "    \"account (string): Account used for transaction\",\n",
        "    \"status (string): Transaction status (completed/pending)\"\n",
        "]\n",
        "\n",
        "transaction_schema_content = (\n",
        "    \"Transaction table structure:\\n\" +\n",
        "    \"\\n\".join([f\"- {field}\" for field in transaction_fields])\n",
        ")\n",
        "docs.append(Document(page_content=transaction_schema_content))"
      ],
      "metadata": {
        "id": "kifS1DSB-NAn"
      },
      "execution_count": 14,
      "outputs": []
    },
    {
      "cell_type": "code",
      "source": [
        "print(docs)"
      ],
      "metadata": {
        "colab": {
          "base_uri": "https://localhost:8080/"
        },
        "id": "tbvxhqsy-PSM",
        "outputId": "05028f56-3d2e-4bbf-b695-3b34f0547b3e"
      },
      "execution_count": 15,
      "outputs": [
        {
          "output_type": "stream",
          "name": "stdout",
          "text": [
            "[Document(metadata={}, page_content='Transaction metadata:\\n- Name: transaction\\n- Default currency: USD\\n- Version: 1.0\\n- Last updated: 2023-10-18T14:30:00Z'), Document(metadata={}, page_content='Transaction table structure:\\n- id (integer): Unique transaction identifier\\n- date (string): Transaction date in YYYY-MM-DD format\\n- description (string): Description of the transaction\\n- amount (float): Transaction amount\\n- currency (string): Currency code (e.g., USD)\\n- category (string): Transaction category\\n- account (string): Account used for transaction\\n- status (string): Transaction status (completed/pending)')]\n"
          ]
        }
      ]
    },
    {
      "cell_type": "code",
      "source": [
        "# === Embedding + FAISS Index ===\n",
        "embedding_model = HuggingFaceEmbeddings(model_name=\"all-MiniLM-L6-v2\")\n",
        "db = FAISS.from_documents(docs, embedding_model)\n",
        "\n",
        "retriever = db.as_retriever(search_kwargs={\"k\": 3})"
      ],
      "metadata": {
        "colab": {
          "base_uri": "https://localhost:8080/",
          "height": 532,
          "referenced_widgets": [
            "21290d68602240749fe801003598a10e",
            "db95c5c57d0c4dc380d4d1036c0534fb",
            "23fbf9109e4d4dc39ee383b746ca16e3",
            "f01f3257ae9c44549fa0a988fd48b475",
            "62992adb48894ee69a0503367ebd78ab",
            "e811fccc51b441539284e45c8720b9d5",
            "6cd576bfd6e24206802223bb7653b724",
            "a6625b8b1dca4b249f0f90cc25ddeebd",
            "a70b38a2bbbc4c7084dd75eb899a80e8",
            "da662f268cf24b7eb7e5bc32f8528c94",
            "bcff34a2164c4897a8f42117ec3b6c69",
            "462ffafc7b964ab08eaac0270efdb68d",
            "3acd9d8bbf764f209b059ad04db7d23e",
            "fcad3434003d405ead9c6e16a8255abc",
            "744729bfa9ed4f18befcb3d309aed6e3",
            "7951184edfc44a869f8ffbe6f4384e66",
            "f85bdbe8ff654b4fb9d7cf49f2ee212a",
            "cfd92c61de0f44288b9bf3b4cc3ff6dc",
            "3ca61a37ee2941d8840ad729755380c2",
            "6f4f55fa315943f49de760cac79187e5",
            "ca7c3c68b17a4a97948e257b3bd2f60e",
            "0f3b8294f8d34b1892d0156f436e0e7d",
            "c39c60be0a9f428694271bf85dfd9436",
            "36e21df71d834616bd1a454f105988fe",
            "a655f16ce779447fba97220b4dd99ec3",
            "df8008c7c7884a139e1581ec2c025b02",
            "ac35438d0a5e4093a4c16c09fe68ec4c",
            "78324d166fd245c4b088d1c7f3f5de40",
            "5d515c8e5349495e96e4814756faa9c1",
            "e1dccf87e0f64dae8e9c7d187d6fbcec",
            "db48fa3496c2494b8e646610b3dce3bf",
            "8831938331fe4527801f88162cf40f9a",
            "3ea978e84d1846e9bbbb205286340c2e",
            "c7775a5f2e5348d1b50d546674a6fbdb",
            "2036f453caa047de856f11f1b5d07052",
            "0655648f203e4560a985531244d2106d",
            "215cd4bf9c75421fb730a5133d050ef1",
            "3c6d697b427e406883077e0bd28d9f46",
            "7d9b0a0110cf4fbdbe1947bd451d1ae1",
            "b2c3fb552f6e4e65928fbcd51b5b11b2",
            "f8a935aace884adf801078be05e83537",
            "5073bd2a9c77464bb4287881d0e79a9c",
            "325a9a217760498290e5cd969f97054d",
            "53edbb12394b4b7d9f9f6befaf4a1007",
            "f0d6e69f0f7e4a908d38e8428e4f62a5",
            "bf0093d7e3594dc1b717206ef36687f0",
            "ec4ef225aea74374a1d99f34870ee515",
            "fe9fed473a2a4963a03d32cd3c993af6",
            "915d4355d71b42a2bfa0237f51ae36db",
            "cf978c52fe9348eaa8d386f4d10ca211",
            "428aeca7be2349949ada097fd15ddb39",
            "e8649ce1ee404e57b681de92c55e55e8",
            "79af813eba544198a722f6f393f8123d",
            "f054b33fa4c74e7fa1077188e7641ee2",
            "a07ec5b69fe34ed285535cd9f5ec3462",
            "039a7345fb744bc19db2836b15b4797a",
            "f19a5d44dd404602b9587caeec8fc03c",
            "dcaf5952dd454bf79356b5be8731ff21",
            "8a062eb53fba4224a1bdc73f0d654624",
            "9aec00eb913f45c89ca7265ebcc555fc",
            "18b23e15327a4fdd96f7d5d7d54db34b",
            "cd3ae2f8306548ffbf1eefa884db1dd0",
            "b562ff3f7787477bbee33a15224f5894",
            "b502c632c5fe48f8b484473348610b76",
            "abcda88543a7425380c5ebcefc38867f",
            "b105583ebf5d40df9c9b24f6f15de0a2",
            "e385dcb3e6704d0eba9ebac6fa8d283c",
            "4794d23ac5bd46f4b7822738c38752aa",
            "6834a4b8ff8b4899b55c0a7bc5c6fd7c",
            "0eeb005ace3e4c99b7678539a3737df4",
            "b1edfd8ad2014ae3bef6fc7b580eb420",
            "8f5672b1c38d4c1b8555bc7a0a82eaeb",
            "6cd13f038a744d2199130a340f1185de",
            "04a770c7e61c40eebda7f7e9cf009a24",
            "7e28ccd38a484b8f9e76ae27d26588b6",
            "b89980267bc84c1d884d2cea44583f19",
            "278345fbf1024c588d72ca399a4b31e5",
            "b7afc9bb7a1442dca78388a61aef07e4",
            "9ddeaa0719c84771baf1a6b7c2558e36",
            "8d71da2bd41145bba5934e37244cc464",
            "070a9fa3e26848d6af4781dd7529d4aa",
            "f1788c2c756e4a3cbab1e959b0452e28",
            "6b55e216076545098687ae82681aa7a2",
            "c3bcc237b3744f4ea2837224d345e955",
            "7539887f6d734f5795dda323bd923c31",
            "19a435e742214a2189e19c0c0216634d",
            "9b595c7e1dc84a069425480752187072",
            "793ea08e4b2b4608beb1b41472ecf73f",
            "da4e4033a1be4b36a686bf8ec2b8c64c",
            "69f933a4f666473280394d462a3fab53",
            "cdf5a55133ad4556a6e88147b1c9a83d",
            "148ebe65b27942ea955dce394b70b281",
            "724635762e36410d957ac565c3b157f5",
            "08fafff78f284b74bee45fed641c80b0",
            "97701eb9c40c49caabb5ed0a359854b3",
            "1c6ca75f69694b25b738df8da764e96a",
            "579a4193e4874c38aff4e8d1e07215e9",
            "0c4335d8775446e6a1147d9f98d07d9f",
            "c08caded44c7478eaf5037e1874637e6",
            "9ffc9b078cdc43d28c4191027db1f18c",
            "f73c39d28d5443ba92405a1c74634e3d",
            "ca2a6ba099944d6095b860c382aee266",
            "dcc6a435d78041fab9b142d1104c23f6",
            "4a0118ec4f0248fcb089acdceb0c4dd2",
            "57558383b6234b9dbb2aa33a4ea3f7f3",
            "b5ba748a50994afcbf72d756ca0adfe4",
            "e8554f93604f44ffa491060b84439bb9",
            "07a44fb9716e4e4683608794670fd191",
            "120ed4ebc8f64c81990c37dc0344cc4d",
            "7686ef1b9dea437d9696ddda08390469",
            "379c7b6a9d5848c08052787369a65d05",
            "7f9b0ec56f734cabb7fb753e57cb18e3",
            "667f9271918d42a9ab0c925f10faae40",
            "494a73c825524c5287b90881596738ed",
            "6da1cb4cc41b45449753fed0f471c074",
            "69d633fbb586473ebf9b3ad4a133e931",
            "ec7b673a510c419d92b86181475b4561",
            "c412df782220474b8459c5baa39d4e99",
            "fb06dc6db071421288633811f71a988c",
            "90ad8235f93e43758d09669ea87b0e52",
            "90a507cf0d4e49f28236e7b4eda9a2dc"
          ]
        },
        "id": "liuhKcA2-Rh_",
        "outputId": "cf7e5313-40a3-41b7-8179-9f679f88fea1"
      },
      "execution_count": 16,
      "outputs": [
        {
          "output_type": "stream",
          "name": "stderr",
          "text": [
          ]
        },
        {
          "output_type": "display_data",
          "data": {
            "text/plain": [
              "modules.json:   0%|          | 0.00/349 [00:00<?, ?B/s]"
            ],
            "application/vnd.jupyter.widget-view+json": {
              "version_major": 2,
              "version_minor": 0,
              "model_id": "21290d68602240749fe801003598a10e"
            }
          },
          "metadata": {}
        },
        {
          "output_type": "display_data",
          "data": {
            "text/plain": [
              "config_sentence_transformers.json:   0%|          | 0.00/116 [00:00<?, ?B/s]"
            ],
            "application/vnd.jupyter.widget-view+json": {
              "version_major": 2,
              "version_minor": 0,
              "model_id": "462ffafc7b964ab08eaac0270efdb68d"
            }
          },
          "metadata": {}
        },
        {
          "output_type": "display_data",
          "data": {
            "text/plain": [
              "README.md:   0%|          | 0.00/10.5k [00:00<?, ?B/s]"
            ],
            "application/vnd.jupyter.widget-view+json": {
              "version_major": 2,
              "version_minor": 0,
              "model_id": "c39c60be0a9f428694271bf85dfd9436"
            }
          },
          "metadata": {}
        },
        {
          "output_type": "display_data",
          "data": {
            "text/plain": [
              "sentence_bert_config.json:   0%|          | 0.00/53.0 [00:00<?, ?B/s]"
            ],
            "application/vnd.jupyter.widget-view+json": {
              "version_major": 2,
              "version_minor": 0,
              "model_id": "c7775a5f2e5348d1b50d546674a6fbdb"
            }
          },
          "metadata": {}
        },
        {
          "output_type": "display_data",
          "data": {
            "text/plain": [
              "config.json:   0%|          | 0.00/612 [00:00<?, ?B/s]"
            ],
            "application/vnd.jupyter.widget-view+json": {
              "version_major": 2,
              "version_minor": 0,
              "model_id": "f0d6e69f0f7e4a908d38e8428e4f62a5"
            }
          },
          "metadata": {}
        },
        {
          "output_type": "stream",
          "name": "stderr",
          "text": [
          ]
        },
        {
          "output_type": "display_data",
          "data": {
            "text/plain": [
              "model.safetensors:   0%|          | 0.00/90.9M [00:00<?, ?B/s]"
            ],
            "application/vnd.jupyter.widget-view+json": {
              "version_major": 2,
              "version_minor": 0,
              "model_id": "039a7345fb744bc19db2836b15b4797a"
            }
          },
          "metadata": {}
        },
        {
          "output_type": "display_data",
          "data": {
            "text/plain": [
              "tokenizer_config.json:   0%|          | 0.00/350 [00:00<?, ?B/s]"
            ],
            "application/vnd.jupyter.widget-view+json": {
              "version_major": 2,
              "version_minor": 0,
              "model_id": "e385dcb3e6704d0eba9ebac6fa8d283c"
            }
          },
          "metadata": {}
        },
        {
          "output_type": "display_data",
          "data": {
            "text/plain": [
              "vocab.txt:   0%|          | 0.00/232k [00:00<?, ?B/s]"
            ],
            "application/vnd.jupyter.widget-view+json": {
              "version_major": 2,
              "version_minor": 0,
              "model_id": "b7afc9bb7a1442dca78388a61aef07e4"
            }
          },
          "metadata": {}
        },
        {
          "output_type": "display_data",
          "data": {
            "text/plain": [
              "tokenizer.json:   0%|          | 0.00/466k [00:00<?, ?B/s]"
            ],
            "application/vnd.jupyter.widget-view+json": {
              "version_major": 2,
              "version_minor": 0,
              "model_id": "da4e4033a1be4b36a686bf8ec2b8c64c"
            }
          },
          "metadata": {}
        },
        {
          "output_type": "display_data",
          "data": {
            "text/plain": [
              "special_tokens_map.json:   0%|          | 0.00/112 [00:00<?, ?B/s]"
            ],
            "application/vnd.jupyter.widget-view+json": {
              "version_major": 2,
              "version_minor": 0,
              "model_id": "9ffc9b078cdc43d28c4191027db1f18c"
            }
          },
          "metadata": {}
        },
        {
          "output_type": "display_data",
          "data": {
            "text/plain": [
              "config.json:   0%|          | 0.00/190 [00:00<?, ?B/s]"
            ],
            "application/vnd.jupyter.widget-view+json": {
              "version_major": 2,
              "version_minor": 0,
              "model_id": "379c7b6a9d5848c08052787369a65d05"
            }
          },
          "metadata": {}
        }
      ]
    },
    {
      "cell_type": "code",
      "source": [
        "# === Prompt Template ===\n",
        "prompt_template = PromptTemplate(\n",
        "    input_variables=[\"context\", \"question\"],\n",
        "    template=\"\"\"\n",
        "You are a data assistant. Create a BigQuery SQL query based on the following context and questions. Only provide the SQL query without explanation. Do not include the “``sql” tag like the following\n",
        "\n",
        "Context:\n",
        "{context}\n",
        "\n",
        "Question:\n",
        "{question}\n",
        "\n",
        "SQL:\n",
        "\"\"\")"
      ],
      "metadata": {
        "id": "XOaYTVoI-Tyy"
      },
      "execution_count": 17,
      "outputs": []
    },
    {
      "cell_type": "code",
      "source": [
        "# === Custom LLM wrapper buat OpenRouter ===\n",
        "from langchain.llms.base import LLM\n",
        "from typing import List, Optional\n",
        "from pydantic import Field\n",
        "\n",
        "class OpenRouterLLM(LLM):\n",
        "    api_key: str = Field(...)\n",
        "    model: str = Field(...)\n",
        "    temperature: float = 0.2\n",
        "\n",
        "    @property\n",
        "    def _llm_type(self) -> str:\n",
        "        return \"openrouter\"\n",
        "\n",
        "    def _call(self, prompt: str, stop: Optional[List[str]] = None) -> str:\n",
        "        payload = {\n",
        "            \"model\": self.model,\n",
        "            \"messages\": [\n",
        "                {\"role\": \"user\", \"content\": prompt}\n",
        "            ],\n",
        "            \"temperature\": self.temperature,\n",
        "        }\n",
        "        headers = {\n",
        "            \"Authorization\": f\"Bearer {self.api_key}\",\n",
        "            \"Content-Type\": \"application/json\",\n",
        "            \"HTTP-Referer\": \"https://colab.research.google.com/\",  # Required by OpenRouter\n",
        "            \"X-Title\": \"Your App Name\"                  # Required by OpenRouter\n",
        "        }\n",
        "\n",
        "        response = requests.post(\"https://openrouter.ai/api/v1/chat/completions\", headers=headers, json=payload)\n",
        "        if response.status_code == 200:\n",
        "            return response.json()[\"choices\"][0][\"message\"][\"content\"].strip()\n",
        "        else:\n",
        "            raise Exception(f\"Request failed: {response.status_code}, {response.text}\")"
      ],
      "metadata": {
        "id": "JdSNE4CF-cEs"
      },
      "execution_count": 26,
      "outputs": []
    },
    {
      "cell_type": "code",
      "source": [
        "# === Init LLM\n",
        "llm = OpenRouterLLM(api_key=\"\", model=\"microsoft/mai-ds-r1:free\")\n",
        "\n",
        "# === LangChain pipeline\n",
        "from langchain.chains import RetrievalQA\n",
        "\n",
        "chain = RetrievalQA.from_chain_type(\n",
        "    llm=llm,\n",
        "    retriever=retriever,\n",
        "    chain_type=\"stuff\",\n",
        "    chain_type_kwargs={\"prompt\": prompt_template}\n",
        ")"
      ],
      "metadata": {
        "id": "mmBkBAeM-kV3"
      },
      "execution_count": 30,
      "outputs": []
    },
    {
      "cell_type": "code",
      "source": [
        "# === Run\n",
        "question = \"Calculate how many unique transaction\"\n",
        "result = chain.invoke(question)\n",
        "\n",
        "print(\"=== SQL Output ===\")\n",
        "print(result['result'])\n"
      ],
      "metadata": {
        "colab": {
          "base_uri": "https://localhost:8080/"
        },
        "id": "vcr4luP8-6Hm",
        "outputId": "5358801c-f2a5-4101-849d-49345d2cd80e"
      },
      "execution_count": 31,
      "outputs": [
        {
          "output_type": "stream",
          "name": "stdout",
          "text": [
            "=== SQL Output ===\n",
            "SELECT COUNT(DISTINCT id) FROM transaction;\n"
          ]
        }
      ]
    },
    {
      "cell_type": "code",
      "source": [
        "# === Run\n",
        "question = \"Find the total revenue generated in 2023\"\n",
        "result = chain.invoke(question)\n",
        "\n",
        "print(\"=== SQL Output ===\")\n",
        "print(result['result'])\n"
      ],
      "metadata": {
        "colab": {
          "base_uri": "https://localhost:8080/"
        },
        "id": "NpD0xF_d_F6D",
        "outputId": "3a3f37ee-2f76-470a-cc01-3cce07376138"
      },
      "execution_count": 32,
      "outputs": [
        {
          "output_type": "stream",
          "name": "stdout",
          "text": [
            "=== SQL Output ===\n",
            "SELECT SUM(amount) AS total_revenue\n",
            "FROM transaction\n",
            "WHERE status = 'completed'\n",
            "AND date BETWEEN '2023-01-01' AND '2023-12-31';\n"
          ]
        }
      ]
    },
    {
      "cell_type": "code",
      "source": [
        "# === Run\n",
        "question = \"Find the top 5 categories by total transaction revenue in April 2017\"\n",
        "result = chain.invoke(question)\n",
        "\n",
        "print(\"=== SQL Output ===\")\n",
        "print(result['result'])\n"
      ],
      "metadata": {
        "colab": {
          "base_uri": "https://localhost:8080/"
        },
        "id": "LifbzZLVAT8o",
        "outputId": "ca9754f1-83a0-484b-bc2c-ee60382b1989"
      },
      "execution_count": 33,
      "outputs": [
        {
          "output_type": "stream",
          "name": "stdout",
          "text": [
            "=== SQL Output ===\n",
            "SELECT category, SUM(amount) AS total_revenue\n",
            "FROM transaction\n",
            "WHERE status = 'completed'\n",
            "  AND date >= '2017-04-01' AND date <= '2017-04-30'\n",
            "GROUP BY category\n",
            "ORDER BY total_revenue DESC\n",
            "LIMIT 5;\n"
          ]
        }
      ]
    },
    {
      "cell_type": "code",
      "source": [
        "# === Run\n",
        "question = \"Identify the top 3 revenue sources that generated the highest revenue in January 2017.\"\n",
        "result = chain.run(question)\n",
        "\n",
        "print(\"=== SQL Output ===\")\n",
        "print(result)"
      ],
      "metadata": {
        "colab": {
          "base_uri": "https://localhost:8080/"
        },
        "id": "BnRdvwOjA7Sc",
        "outputId": "a13a215a-dea2-4ec3-8982-e2a76e4a93d8"
      },
      "execution_count": 34,
      "outputs": [
        {
          "output_type": "stream",
          "name": "stdout",
          "text": [
            "=== SQL Output ===\n",
            "SELECT category, SUM(amount) AS total_revenue\n",
            "FROM transaction\n",
            "WHERE status = 'completed'\n",
            "  AND date BETWEEN '2017-01-01' AND '2017-01-31'\n",
            "GROUP BY category\n",
            "ORDER BY total_revenue DESC\n",
            "LIMIT 3;\n"
          ]
        }
      ]
    },
    {
      "cell_type": "code",
      "source": [],
      "metadata": {
        "id": "T9lq7lz-BESB"
      },
      "execution_count": 34,
      "outputs": []
    }
  ]
}
